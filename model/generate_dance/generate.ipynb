{
 "cells": [
  {
   "cell_type": "markdown",
   "metadata": {},
   "source": [
<<<<<<< HEAD
    "## https://disco-dance.github.io/index.html\n",
    "\n",
    "https://github.com/Wangt-CN/DisCo?tab=readme-ov-file\n",
    "\n",
    "https://github.com/Wangt-CN/DisCo/blob/main/human_img_edit_gradio.ipynb\n",
    "\n",
    "https://grail.cs.washington.edu/projects/dreampose/"
=======
    "## https://disco-dance.github.io/index.html"
>>>>>>> dff8040 (new changes)
   ]
  },
  {
   "cell_type": "code",
   "execution_count": null,
   "metadata": {},
   "outputs": [],
   "source": []
  },
  {
   "cell_type": "code",
   "execution_count": null,
   "metadata": {},
   "outputs": [],
   "source": [
    "https://disco-dance.github.io/index.html"
   ]
  }
 ],
 "metadata": {
  "language_info": {
   "name": "python"
  }
 },
 "nbformat": 4,
 "nbformat_minor": 2
}
