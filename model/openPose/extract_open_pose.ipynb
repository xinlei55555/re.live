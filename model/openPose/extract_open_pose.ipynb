{
 "cells": [
  {
   "cell_type": "markdown",
   "metadata": {},
   "source": [
    "## I am using this repo\n",
    "#### https://medium.com/pixel-wise/real-time-pose-estimation-in-webcam-using-openpose-python-2-3-opencv-91af0372c31c\n",
    "\n",
    "and this is the repository :\n",
    "https://github.com/CMU-Perceptual-Computing-Lab/openpose  $\\\\$\n",
    "They have nice instructions here: $\\\\$\n",
    "https://github.com/CMU-Perceptual-Computing-Lab/openpose/blob/master/doc/installation/0_index.md#windows-portable-demo"
   ]
  },
  {
   "cell_type": "markdown",
   "metadata": {},
   "source": [
    "and I had to install a bunch of things, and set GPU to CPU ONLY\n",
    "\n",
    "https://stackoverflow.com/questions/65588745/could-not-find-glog-missing-glog-include-dir-glog-library"
   ]
  },
  {
   "cell_type": "markdown",
   "metadata": {},
   "source": [
    "https://github.com/CMU-Perceptual-Computing-Lab/openpose/blob/master/doc/installation/1_prerequisites.md\n",
    "and there are other prerequisites"
   ]
  },
  {
   "cell_type": "markdown",
   "metadata": {},
   "source": [
    "I also kept runnning into an error with protobuf, but here is a solution, is to reinstall caffee\n",
    "\n",
    "https://github.com/CMU-Perceptual-Computing-Lab/openpose/issues/1150"
   ]
  },
  {
   "cell_type": "markdown",
   "metadata": {},
   "source": [
    "Furthemore, gotta specifically get caffe for cpu only\n",
    "https://gist.github.com/nikitametha/c54e1abecff7ab53896270509da80215"
   ]
  },
  {
   "cell_type": "code",
   "execution_count": null,
   "metadata": {},
   "outputs": [],
   "source": []
  },
  {
   "cell_type": "code",
   "execution_count": null,
   "metadata": {},
   "outputs": [],
   "source": []
  }
 ],
 "metadata": {
  "kernelspec": {
   "display_name": "env",
   "language": "python",
   "name": "python3"
  },
  "language_info": {
   "name": "python",
   "version": "3.11.6"
  }
 },
 "nbformat": 4,
 "nbformat_minor": 2
}
